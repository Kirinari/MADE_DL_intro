{
 "cells": [
  {
   "cell_type": "code",
   "execution_count": 12,
   "metadata": {},
   "outputs": [
    {
     "data": {
      "text/plain": [
       "<torch._C.Generator at 0x1b11ebd00d0>"
      ]
     },
     "execution_count": 12,
     "metadata": {},
     "output_type": "execute_result"
    }
   ],
   "source": [
    "import matplotlib.pyplot as plt\n",
    "%matplotlib inline\n",
    "import numpy as np\n",
    "import cv2\n",
    "import sklearn\n",
    "import PIL\n",
    "from PIL import Image\n",
    "import torch\n",
    "import torchvision\n",
    "from torchvision import transforms\n",
    "import os\n",
    "from sklearn.model_selection import train_test_split\n",
    "RANDOM_SEED = 17\n",
    "torch.manual_seed(RANDOM_SEED)"
   ]
  },
  {
   "cell_type": "code",
   "execution_count": 13,
   "metadata": {},
   "outputs": [],
   "source": [
    "names1 = [name.split('.')[0] for name in os.listdir('samples') if '.' in name]\n",
    "names2 = [name.split('.')[0] for name in os.listdir('samples/samples') if '.' in name]"
   ]
  },
  {
   "cell_type": "code",
   "execution_count": 14,
   "metadata": {},
   "outputs": [],
   "source": [
    "chars = list(\"\".join(names1))\n",
    "chars = sorted(np.unique(chars))"
   ]
  },
  {
   "cell_type": "code",
   "execution_count": 15,
   "metadata": {},
   "outputs": [],
   "source": [
    "id_to_ch = {i + 1: ch for i, ch in enumerate(chars)}\n",
    "id_to_ch[0] = \"-\"\n",
    "ch_to_id = {ch: i for i, ch in id_to_ch.items()}"
   ]
  },
  {
   "cell_type": "code",
   "execution_count": 98,
   "metadata": {},
   "outputs": [
    {
     "data": {
      "text/plain": [
       "{'2': 1,\n",
       " '3': 2,\n",
       " '4': 3,\n",
       " '5': 4,\n",
       " '6': 5,\n",
       " '7': 6,\n",
       " '8': 7,\n",
       " 'b': 8,\n",
       " 'c': 9,\n",
       " 'd': 10,\n",
       " 'e': 11,\n",
       " 'f': 12,\n",
       " 'g': 13,\n",
       " 'm': 14,\n",
       " 'n': 15,\n",
       " 'p': 16,\n",
       " 'w': 17,\n",
       " 'x': 18,\n",
       " 'y': 19,\n",
       " '-': 0}"
      ]
     },
     "execution_count": 98,
     "metadata": {},
     "output_type": "execute_result"
    }
   ],
   "source": [
    "ch_to_id"
   ]
  },
  {
   "cell_type": "code",
   "execution_count": 99,
   "metadata": {},
   "outputs": [],
   "source": [
    "def imshow(img):\n",
    "    img = img / 2 + 0.5\n",
    "    npimg = img.numpy()\n",
    "    plt.imshow(np.transpose(npimg, (1, 2, 0)))\n",
    "    plt.show()"
   ]
  },
  {
   "cell_type": "code",
   "execution_count": 100,
   "metadata": {},
   "outputs": [],
   "source": [
    "class CaptchaDataset(torch.utils.data.Dataset):\n",
    "\n",
    "    def __init__(self, dir_path, image_paths, transform=None, encode_table=None):\n",
    "        self.dir_path = dir_path\n",
    "        self.transform = transform\n",
    "        self.encode_table = encode_table\n",
    "        self.image_paths_id = []\n",
    "        self.image_paths = image_paths\n",
    "    \n",
    "    def __len__(self):\n",
    "        return len(self.image_paths)\n",
    "    \n",
    "\n",
    "    def __getitem__(self, index):\n",
    "        path_to_image = self.image_paths[index]\n",
    "        label = path_to_image.split('.')[0]\n",
    "        if self.encode_table:\n",
    "            label = torch.tensor([self.encode_table[ch] for ch in label], dtype=torch.long)\n",
    "\n",
    "        with Image.open(self.dir_path + '/' + path_to_image).convert('RGB') as img:\n",
    "            img.load()\n",
    "        \n",
    "        if self.transform:\n",
    "            img = self.transform(img)\n",
    "\n",
    "        return (img, label)\n",
    "    \n",
    "\n"
   ]
  },
  {
   "cell_type": "code",
   "execution_count": 101,
   "metadata": {},
   "outputs": [],
   "source": [
    "transform = transforms.Compose([\n",
    "    transforms.ToTensor(),\n",
    "    transforms.Normalize([0.5, 0.5, 0.5], [0.5, 0.5, 0.5])\n",
    "])\n",
    "\n",
    "data_dir = \"samples\"\n",
    "\n",
    "image_paths = [name for name in os.listdir(data_dir) if '.' in name]\n",
    "\n",
    "train_paths, test_paths = train_test_split(image_paths, shuffle=True, test_size=0.2, random_state=RANDOM_SEED)\n",
    "\n",
    "batch_size = 4\n",
    "num_workers = 0\n",
    "\n",
    "trainset = CaptchaDataset(dir_path=data_dir, image_paths=train_paths, encode_table=ch_to_id, transform=transform)\n",
    "testset = CaptchaDataset(dir_path=data_dir, image_paths=test_paths, encode_table=ch_to_id, transform=transform)\n",
    "\n",
    "trainloader = torch.utils.data.DataLoader(trainset, batch_size=batch_size,\n",
    "                                          shuffle=True, num_workers=num_workers)\n",
    "                                    \n",
    "testloader = torch.utils.data.DataLoader(testset, batch_size=batch_size,\n",
    "                                          shuffle=False, num_workers=num_workers)\n"
   ]
  },
  {
   "cell_type": "code",
   "execution_count": 102,
   "metadata": {},
   "outputs": [
    {
     "data": {
      "text/plain": [
       "(856, 214)"
      ]
     },
     "execution_count": 102,
     "metadata": {},
     "output_type": "execute_result"
    }
   ],
   "source": [
    "len(trainset), len(testset)"
   ]
  },
  {
   "cell_type": "code",
   "execution_count": 112,
   "metadata": {},
   "outputs": [
    {
     "data": {
      "image/png": "[encoded data removed]",
      "text/plain": [
       "<Figure size 432x288 with 1 Axes>"
      ]
     },
     "metadata": {
      "needs_background": "light"
     },
     "output_type": "display_data"
    },
    {
     "name": "stdout",
     "output_type": "stream",
     "text": [
      "tensor([16, 17,  4, 15,  9])  tensor([ 6,  9, 10, 13, 11])  tensor([12,  2,  4, 18, 16])  tensor([10,  1,  1, 19,  4])\n"
     ]
    }
   ],
   "source": [
    "def imshow(img, labels):\n",
    "    img = img / 2 + 0.5 # убираем нормализацию\n",
    "    npimg = img.numpy()\n",
    "    plt.imshow(np.transpose(npimg, (1, 2, 0)))\n",
    "    plt.show()\n",
    "\n",
    "\n",
    "dataiter = iter(trainloader)\n",
    "images, labels = dataiter.__next__()\n",
    "\n",
    "imshow(torchvision.utils.make_grid(images), labels)\n",
    "print('  '.join('{}'.format(labels[j]) for j in range(batch_size)))"
   ]
  },
  {
   "attachments": {},
   "cell_type": "markdown",
   "metadata": {},
   "source": [
    "### Модель"
   ]
  },
  {
   "cell_type": "code",
   "execution_count": 120,
   "metadata": {},
   "outputs": [],
   "source": [
    "import torch.nn as nn\n",
    "import torch.nn.functional as F\n",
    "\n",
    "class Net(nn.Module):\n",
    "    def __init__(self):\n",
    "        super().__init__()\n",
    "\n",
    "        self.conv1 = nn.Conv2d(3, 6, 5, padding=1)\n",
    "        self.conv2 = nn.Conv2d(6, 16, 5, padding=1)\n",
    "        self.pool1 = nn.MaxPool2d(2, stride=2)\n",
    "        self.pool2 = nn.MaxPool2d(2, stride=2)\n",
    "        self.linear1 = nn.Linear(528, 64)\n",
    "        self.dropout = nn.Dropout(0.5)\n",
    "        self.lstm = nn.LSTM(64, 32, bidirectional=True, num_layers=2, dropout=0.2)\n",
    "        self.linear2 = nn.Linear(64, 20)\n",
    "        self.output = nn.LogSoftmax(dim=-1)\n",
    "    \n",
    "    def forward(self, x):\n",
    "        x = F.relu(self.conv1(x))\n",
    "        x = self.pool1(x)\n",
    "\n",
    "        x = F.relu(self.conv2(x))\n",
    "\n",
    "        x = self.pool2(x)\n",
    "\n",
    "        x = torch.flatten(x, 2)\n",
    "\n",
    "        x = self.linear1(x)\n",
    "        x = self.dropout(x)\n",
    "        x, _ = self.lstm(x)\n",
    "        x = self.linear2(x)\n",
    "        x = self.output(x)\n",
    "\n",
    "        log_probs = F.log_softmax(x, 2)\n",
    "        input_lengths = torch.full(\n",
    "            size=(batch_size, ),\n",
    "            fill_value=log_probs.size(0),\n",
    "            dtype=torch.int32\n",
    "        )\n",
    "\n",
    "        target_lengths = torch.full(\n",
    "            size=(batch_size, ),\n",
    "            fill_value=labels.size(1),\n",
    "            dtype=torch.int32\n",
    "        )\n",
    "            \n",
    "        loss = nn.CTCLoss(blank=0)(\n",
    "            log_probs, labels, input_lengths, target_lengths\n",
    "        )\n",
    "\n",
    "        return x, loss"
   ]
  },
  {
   "cell_type": "code",
   "execution_count": 121,
   "metadata": {},
   "outputs": [],
   "source": [
    "net = Net()"
   ]
  },
  {
   "cell_type": "code",
   "execution_count": 122,
   "metadata": {},
   "outputs": [],
   "source": [
    "import torch.optim as optim\n",
    "\n",
    "optimizer =  optim.Adam(net.parameters(), lr=1e-4)"
   ]
  },
  {
   "cell_type": "code",
   "execution_count": 123,
   "metadata": {},
   "outputs": [
    {
     "ename": "RuntimeError",
     "evalue": "input_lengths must be of size batch_size",
     "output_type": "error",
     "traceback": [
      "\u001b[1;31m---------------------------------------------------------------------------\u001b[0m",
      "\u001b[1;31mRuntimeError\u001b[0m                              Traceback (most recent call last)",
      "\u001b[1;32mc:\\Users\\Лёша\\jupyter\\VKMADE2\\MADE_DL_intro\\solution.ipynb Ячейка 15\u001b[0m in \u001b[0;36m<cell line: 1>\u001b[1;34m()\u001b[0m\n\u001b[0;32m      <a href='vscode-notebook-cell:/c%3A/Users/%D0%9B%D1%91%D1%88%D0%B0/jupyter/VKMADE2/MADE_DL_intro/solution.ipynb#X20sZmlsZQ%3D%3D?line=4'>5</a>\u001b[0m inputs, labels \u001b[39m=\u001b[39m data\n\u001b[0;32m      <a href='vscode-notebook-cell:/c%3A/Users/%D0%9B%D1%91%D1%88%D0%B0/jupyter/VKMADE2/MADE_DL_intro/solution.ipynb#X20sZmlsZQ%3D%3D?line=6'>7</a>\u001b[0m optimizer\u001b[39m.\u001b[39mzero_grad()\n\u001b[1;32m----> <a href='vscode-notebook-cell:/c%3A/Users/%D0%9B%D1%91%D1%88%D0%B0/jupyter/VKMADE2/MADE_DL_intro/solution.ipynb#X20sZmlsZQ%3D%3D?line=8'>9</a>\u001b[0m outputs, loss \u001b[39m=\u001b[39m net(inputs)            \n\u001b[0;32m     <a href='vscode-notebook-cell:/c%3A/Users/%D0%9B%D1%91%D1%88%D0%B0/jupyter/VKMADE2/MADE_DL_intro/solution.ipynb#X20sZmlsZQ%3D%3D?line=10'>11</a>\u001b[0m loss\u001b[39m.\u001b[39mbackward()\n\u001b[0;32m     <a href='vscode-notebook-cell:/c%3A/Users/%D0%9B%D1%91%D1%88%D0%B0/jupyter/VKMADE2/MADE_DL_intro/solution.ipynb#X20sZmlsZQ%3D%3D?line=11'>12</a>\u001b[0m optimizer\u001b[39m.\u001b[39mstep()\n",
      "File \u001b[1;32mc:\\anaconda3\\lib\\site-packages\\torch\\nn\\modules\\module.py:1190\u001b[0m, in \u001b[0;36mModule._call_impl\u001b[1;34m(self, *input, **kwargs)\u001b[0m\n\u001b[0;32m   1186\u001b[0m \u001b[39m# If we don't have any hooks, we want to skip the rest of the logic in\u001b[39;00m\n\u001b[0;32m   1187\u001b[0m \u001b[39m# this function, and just call forward.\u001b[39;00m\n\u001b[0;32m   1188\u001b[0m \u001b[39mif\u001b[39;00m \u001b[39mnot\u001b[39;00m (\u001b[39mself\u001b[39m\u001b[39m.\u001b[39m_backward_hooks \u001b[39mor\u001b[39;00m \u001b[39mself\u001b[39m\u001b[39m.\u001b[39m_forward_hooks \u001b[39mor\u001b[39;00m \u001b[39mself\u001b[39m\u001b[39m.\u001b[39m_forward_pre_hooks \u001b[39mor\u001b[39;00m _global_backward_hooks\n\u001b[0;32m   1189\u001b[0m         \u001b[39mor\u001b[39;00m _global_forward_hooks \u001b[39mor\u001b[39;00m _global_forward_pre_hooks):\n\u001b[1;32m-> 1190\u001b[0m     \u001b[39mreturn\u001b[39;00m forward_call(\u001b[39m*\u001b[39m\u001b[39minput\u001b[39m, \u001b[39m*\u001b[39m\u001b[39m*\u001b[39mkwargs)\n\u001b[0;32m   1191\u001b[0m \u001b[39m# Do not call functions when jit is used\u001b[39;00m\n\u001b[0;32m   1192\u001b[0m full_backward_hooks, non_full_backward_hooks \u001b[39m=\u001b[39m [], []\n",
      "\u001b[1;32mc:\\Users\\Лёша\\jupyter\\VKMADE2\\MADE_DL_intro\\solution.ipynb Ячейка 15\u001b[0m in \u001b[0;36mNet.forward\u001b[1;34m(self, x)\u001b[0m\n\u001b[0;32m     <a href='vscode-notebook-cell:/c%3A/Users/%D0%9B%D1%91%D1%88%D0%B0/jupyter/VKMADE2/MADE_DL_intro/solution.ipynb#X20sZmlsZQ%3D%3D?line=34'>35</a>\u001b[0m input_lengths \u001b[39m=\u001b[39m torch\u001b[39m.\u001b[39mfull(\n\u001b[0;32m     <a href='vscode-notebook-cell:/c%3A/Users/%D0%9B%D1%91%D1%88%D0%B0/jupyter/VKMADE2/MADE_DL_intro/solution.ipynb#X20sZmlsZQ%3D%3D?line=35'>36</a>\u001b[0m     size\u001b[39m=\u001b[39m(batch_size, ),\n\u001b[0;32m     <a href='vscode-notebook-cell:/c%3A/Users/%D0%9B%D1%91%D1%88%D0%B0/jupyter/VKMADE2/MADE_DL_intro/solution.ipynb#X20sZmlsZQ%3D%3D?line=36'>37</a>\u001b[0m     fill_value\u001b[39m=\u001b[39mlog_probs\u001b[39m.\u001b[39msize(\u001b[39m0\u001b[39m),\n\u001b[0;32m     <a href='vscode-notebook-cell:/c%3A/Users/%D0%9B%D1%91%D1%88%D0%B0/jupyter/VKMADE2/MADE_DL_intro/solution.ipynb#X20sZmlsZQ%3D%3D?line=37'>38</a>\u001b[0m     dtype\u001b[39m=\u001b[39mtorch\u001b[39m.\u001b[39mint32\n\u001b[0;32m     <a href='vscode-notebook-cell:/c%3A/Users/%D0%9B%D1%91%D1%88%D0%B0/jupyter/VKMADE2/MADE_DL_intro/solution.ipynb#X20sZmlsZQ%3D%3D?line=38'>39</a>\u001b[0m )\n\u001b[0;32m     <a href='vscode-notebook-cell:/c%3A/Users/%D0%9B%D1%91%D1%88%D0%B0/jupyter/VKMADE2/MADE_DL_intro/solution.ipynb#X20sZmlsZQ%3D%3D?line=40'>41</a>\u001b[0m target_lengths \u001b[39m=\u001b[39m torch\u001b[39m.\u001b[39mfull(\n\u001b[0;32m     <a href='vscode-notebook-cell:/c%3A/Users/%D0%9B%D1%91%D1%88%D0%B0/jupyter/VKMADE2/MADE_DL_intro/solution.ipynb#X20sZmlsZQ%3D%3D?line=41'>42</a>\u001b[0m     size\u001b[39m=\u001b[39m(batch_size, ),\n\u001b[0;32m     <a href='vscode-notebook-cell:/c%3A/Users/%D0%9B%D1%91%D1%88%D0%B0/jupyter/VKMADE2/MADE_DL_intro/solution.ipynb#X20sZmlsZQ%3D%3D?line=42'>43</a>\u001b[0m     fill_value\u001b[39m=\u001b[39mlabels\u001b[39m.\u001b[39msize(\u001b[39m1\u001b[39m),\n\u001b[0;32m     <a href='vscode-notebook-cell:/c%3A/Users/%D0%9B%D1%91%D1%88%D0%B0/jupyter/VKMADE2/MADE_DL_intro/solution.ipynb#X20sZmlsZQ%3D%3D?line=43'>44</a>\u001b[0m     dtype\u001b[39m=\u001b[39mtorch\u001b[39m.\u001b[39mint32\n\u001b[0;32m     <a href='vscode-notebook-cell:/c%3A/Users/%D0%9B%D1%91%D1%88%D0%B0/jupyter/VKMADE2/MADE_DL_intro/solution.ipynb#X20sZmlsZQ%3D%3D?line=44'>45</a>\u001b[0m )\n\u001b[1;32m---> <a href='vscode-notebook-cell:/c%3A/Users/%D0%9B%D1%91%D1%88%D0%B0/jupyter/VKMADE2/MADE_DL_intro/solution.ipynb#X20sZmlsZQ%3D%3D?line=46'>47</a>\u001b[0m loss \u001b[39m=\u001b[39m nn\u001b[39m.\u001b[39;49mCTCLoss(blank\u001b[39m=\u001b[39;49m\u001b[39m0\u001b[39;49m)(\n\u001b[0;32m     <a href='vscode-notebook-cell:/c%3A/Users/%D0%9B%D1%91%D1%88%D0%B0/jupyter/VKMADE2/MADE_DL_intro/solution.ipynb#X20sZmlsZQ%3D%3D?line=47'>48</a>\u001b[0m     log_probs, labels, input_lengths, target_lengths\n\u001b[0;32m     <a href='vscode-notebook-cell:/c%3A/Users/%D0%9B%D1%91%D1%88%D0%B0/jupyter/VKMADE2/MADE_DL_intro/solution.ipynb#X20sZmlsZQ%3D%3D?line=48'>49</a>\u001b[0m )\n\u001b[0;32m     <a href='vscode-notebook-cell:/c%3A/Users/%D0%9B%D1%91%D1%88%D0%B0/jupyter/VKMADE2/MADE_DL_intro/solution.ipynb#X20sZmlsZQ%3D%3D?line=50'>51</a>\u001b[0m \u001b[39mreturn\u001b[39;00m x, loss\n",
      "File \u001b[1;32mc:\\anaconda3\\lib\\site-packages\\torch\\nn\\modules\\module.py:1190\u001b[0m, in \u001b[0;36mModule._call_impl\u001b[1;34m(self, *input, **kwargs)\u001b[0m\n\u001b[0;32m   1186\u001b[0m \u001b[39m# If we don't have any hooks, we want to skip the rest of the logic in\u001b[39;00m\n\u001b[0;32m   1187\u001b[0m \u001b[39m# this function, and just call forward.\u001b[39;00m\n\u001b[0;32m   1188\u001b[0m \u001b[39mif\u001b[39;00m \u001b[39mnot\u001b[39;00m (\u001b[39mself\u001b[39m\u001b[39m.\u001b[39m_backward_hooks \u001b[39mor\u001b[39;00m \u001b[39mself\u001b[39m\u001b[39m.\u001b[39m_forward_hooks \u001b[39mor\u001b[39;00m \u001b[39mself\u001b[39m\u001b[39m.\u001b[39m_forward_pre_hooks \u001b[39mor\u001b[39;00m _global_backward_hooks\n\u001b[0;32m   1189\u001b[0m         \u001b[39mor\u001b[39;00m _global_forward_hooks \u001b[39mor\u001b[39;00m _global_forward_pre_hooks):\n\u001b[1;32m-> 1190\u001b[0m     \u001b[39mreturn\u001b[39;00m forward_call(\u001b[39m*\u001b[39m\u001b[39minput\u001b[39m, \u001b[39m*\u001b[39m\u001b[39m*\u001b[39mkwargs)\n\u001b[0;32m   1191\u001b[0m \u001b[39m# Do not call functions when jit is used\u001b[39;00m\n\u001b[0;32m   1192\u001b[0m full_backward_hooks, non_full_backward_hooks \u001b[39m=\u001b[39m [], []\n",
      "File \u001b[1;32mc:\\anaconda3\\lib\\site-packages\\torch\\nn\\modules\\loss.py:1756\u001b[0m, in \u001b[0;36mCTCLoss.forward\u001b[1;34m(self, log_probs, targets, input_lengths, target_lengths)\u001b[0m\n\u001b[0;32m   1755\u001b[0m \u001b[39mdef\u001b[39;00m \u001b[39mforward\u001b[39m(\u001b[39mself\u001b[39m, log_probs: Tensor, targets: Tensor, input_lengths: Tensor, target_lengths: Tensor) \u001b[39m-\u001b[39m\u001b[39m>\u001b[39m Tensor:\n\u001b[1;32m-> 1756\u001b[0m     \u001b[39mreturn\u001b[39;00m F\u001b[39m.\u001b[39;49mctc_loss(log_probs, targets, input_lengths, target_lengths, \u001b[39mself\u001b[39;49m\u001b[39m.\u001b[39;49mblank, \u001b[39mself\u001b[39;49m\u001b[39m.\u001b[39;49mreduction,\n\u001b[0;32m   1757\u001b[0m                       \u001b[39mself\u001b[39;49m\u001b[39m.\u001b[39;49mzero_infinity)\n",
      "File \u001b[1;32mc:\\anaconda3\\lib\\site-packages\\torch\\nn\\functional.py:2628\u001b[0m, in \u001b[0;36mctc_loss\u001b[1;34m(log_probs, targets, input_lengths, target_lengths, blank, reduction, zero_infinity)\u001b[0m\n\u001b[0;32m   2621\u001b[0m \u001b[39mif\u001b[39;00m has_torch_function_variadic(log_probs, targets, input_lengths, target_lengths):\n\u001b[0;32m   2622\u001b[0m     \u001b[39mreturn\u001b[39;00m handle_torch_function(\n\u001b[0;32m   2623\u001b[0m         ctc_loss,\n\u001b[0;32m   2624\u001b[0m         (log_probs, targets, input_lengths, target_lengths),\n\u001b[0;32m   2625\u001b[0m         log_probs, targets, input_lengths, target_lengths,\n\u001b[0;32m   2626\u001b[0m         blank\u001b[39m=\u001b[39mblank, reduction\u001b[39m=\u001b[39mreduction, zero_infinity\u001b[39m=\u001b[39mzero_infinity\n\u001b[0;32m   2627\u001b[0m     )\n\u001b[1;32m-> 2628\u001b[0m \u001b[39mreturn\u001b[39;00m torch\u001b[39m.\u001b[39;49mctc_loss(\n\u001b[0;32m   2629\u001b[0m     log_probs, targets, input_lengths, target_lengths, blank, _Reduction\u001b[39m.\u001b[39;49mget_enum(reduction), zero_infinity\n\u001b[0;32m   2630\u001b[0m )\n",
      "\u001b[1;31mRuntimeError\u001b[0m: input_lengths must be of size batch_size"
     ]
    }
   ],
   "source": [
    "for epoch in range(2):\n",
    "\n",
    "    running_loss = 0.0\n",
    "    for i, data in enumerate(trainloader):\n",
    "        inputs, labels = data\n",
    "\n",
    "        optimizer.zero_grad()\n",
    "\n",
    "        outputs, loss = net(inputs)            \n",
    "\n",
    "        loss.backward()\n",
    "        optimizer.step()\n",
    "\n",
    "        running_loss += loss.item()\n",
    "        if i % 2000 == 1999:\n",
    "            print(f'[{epoch + 1}, {i + 1:5d}] loss: {running_loss / 2000:.3f}')\n",
    "            running_loss = 0.0\n",
    "\n",
    "print('Finished Training')"
   ]
  },
  {
   "cell_type": "code",
   "execution_count": null,
   "metadata": {},
   "outputs": [],
   "source": []
  }
 ],
 "metadata": {
  "kernelspec": {
   "display_name": "Python 3",
   "language": "python",
   "name": "python3"
  },
  "language_info": {
   "codemirror_mode": {
    "name": "ipython",
    "version": 3
   },
   "file_extension": ".py",
   "mimetype": "text/x-python",
   "name": "python",
   "nbconvert_exporter": "python",
   "pygments_lexer": "ipython3",
   "version": "3.9.12"
  },
  "orig_nbformat": 4,
  "vscode": {
   "interpreter": {
    "hash": "ff4f85d6e04298634172ac5d8264e7e9b556b95639fe52ebb9425c4d4cba0c9c"
   }
  }
 },
 "nbformat": 4,
 "nbformat_minor": 2
}
