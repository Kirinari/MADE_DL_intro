{
 "cells": [
  {
   "cell_type": "code",
   "execution_count": 144,
   "metadata": {},
   "outputs": [
    {
     "name": "stdout",
     "output_type": "stream",
     "text": [
      "Current device cpu\n"
     ]
    }
   ],
   "source": [
    "import matplotlib.pyplot as plt\n",
    "%matplotlib inline\n",
    "import numpy as np\n",
    "import cv2\n",
    "import sklearn\n",
    "import PIL\n",
    "from PIL import Image\n",
    "import torch\n",
    "import torchvision\n",
    "from torchvision import transforms\n",
    "import os\n",
    "from sklearn.model_selection import train_test_split\n",
    "RANDOM_SEED = 17\n",
    "torch.manual_seed(RANDOM_SEED)\n",
    "\n",
    "DEVICE = torch.device(\"cuda\") if torch.cuda.is_available() else torch.device(\"cpu\")\n",
    "print(f'Current device {DEVICE}')"
   ]
  },
  {
   "cell_type": "code",
   "execution_count": 13,
   "metadata": {},
   "outputs": [],
   "source": [
    "names1 = [name.split('.')[0] for name in os.listdir('samples') if '.' in name]\n",
    "names2 = [name.split('.')[0] for name in os.listdir('samples/samples') if '.' in name]"
   ]
  },
  {
   "cell_type": "code",
   "execution_count": 14,
   "metadata": {},
   "outputs": [],
   "source": [
    "chars = list(\"\".join(names1))\n",
    "chars = sorted(np.unique(chars))"
   ]
  },
  {
   "cell_type": "code",
   "execution_count": 15,
   "metadata": {},
   "outputs": [],
   "source": [
    "id_to_ch = {i + 1: ch for i, ch in enumerate(chars)}\n",
    "id_to_ch[0] = \"-\"\n",
    "ch_to_id = {ch: i for i, ch in id_to_ch.items()}"
   ]
  },
  {
   "cell_type": "code",
   "execution_count": 98,
   "metadata": {},
   "outputs": [
    {
     "data": {
      "text/plain": [
       "{'2': 1,\n",
       " '3': 2,\n",
       " '4': 3,\n",
       " '5': 4,\n",
       " '6': 5,\n",
       " '7': 6,\n",
       " '8': 7,\n",
       " 'b': 8,\n",
       " 'c': 9,\n",
       " 'd': 10,\n",
       " 'e': 11,\n",
       " 'f': 12,\n",
       " 'g': 13,\n",
       " 'm': 14,\n",
       " 'n': 15,\n",
       " 'p': 16,\n",
       " 'w': 17,\n",
       " 'x': 18,\n",
       " 'y': 19,\n",
       " '-': 0}"
      ]
     },
     "execution_count": 98,
     "metadata": {},
     "output_type": "execute_result"
    }
   ],
   "source": [
    "ch_to_id"
   ]
  },
  {
   "cell_type": "code",
   "execution_count": 99,
   "metadata": {},
   "outputs": [],
   "source": [
    "def imshow(img):\n",
    "    img = img / 2 + 0.5\n",
    "    npimg = img.numpy()\n",
    "    plt.imshow(np.transpose(npimg, (1, 2, 0)))\n",
    "    plt.show()"
   ]
  },
  {
   "cell_type": "code",
   "execution_count": 100,
   "metadata": {},
   "outputs": [],
   "source": [
    "class CaptchaDataset(torch.utils.data.Dataset):\n",
    "\n",
    "    def __init__(self, dir_path, image_paths, transform=None, encode_table=None):\n",
    "        self.dir_path = dir_path\n",
    "        self.transform = transform\n",
    "        self.encode_table = encode_table\n",
    "        self.image_paths_id = []\n",
    "        self.image_paths = image_paths\n",
    "    \n",
    "    def __len__(self):\n",
    "        return len(self.image_paths)\n",
    "    \n",
    "\n",
    "    def __getitem__(self, index):\n",
    "        path_to_image = self.image_paths[index]\n",
    "        label = path_to_image.split('.')[0]\n",
    "        if self.encode_table:\n",
    "            label = torch.tensor([self.encode_table[ch] for ch in label], dtype=torch.long)\n",
    "\n",
    "        with Image.open(self.dir_path + '/' + path_to_image).convert('RGB') as img:\n",
    "            img.load()\n",
    "        \n",
    "        if self.transform:\n",
    "            img = self.transform(img)\n",
    "\n",
    "        return (img, label)\n",
    "    \n",
    "\n"
   ]
  },
  {
   "cell_type": "code",
   "execution_count": 101,
   "metadata": {},
   "outputs": [],
   "source": [
    "transform = transforms.Compose([\n",
    "    transforms.ToTensor(),\n",
    "    transforms.Normalize([0.5, 0.5, 0.5], [0.5, 0.5, 0.5])\n",
    "])\n",
    "\n",
    "data_dir = \"samples\"\n",
    "\n",
    "image_paths = [name for name in os.listdir(data_dir) if '.' in name]\n",
    "\n",
    "train_paths, test_paths = train_test_split(image_paths, shuffle=True, test_size=0.2, random_state=RANDOM_SEED)\n",
    "\n",
    "batch_size = 4\n",
    "num_workers = 0\n",
    "\n",
    "trainset = CaptchaDataset(dir_path=data_dir, image_paths=train_paths, encode_table=ch_to_id, transform=transform)\n",
    "testset = CaptchaDataset(dir_path=data_dir, image_paths=test_paths, encode_table=ch_to_id, transform=transform)\n",
    "\n",
    "trainloader = torch.utils.data.DataLoader(trainset, batch_size=batch_size,\n",
    "                                          shuffle=True, num_workers=num_workers)\n",
    "                                    \n",
    "testloader = torch.utils.data.DataLoader(testset, batch_size=batch_size,\n",
    "                                          shuffle=False, num_workers=num_workers)\n"
   ]
  },
  {
   "cell_type": "code",
   "execution_count": 102,
   "metadata": {},
   "outputs": [
    {
     "data": {
      "text/plain": [
       "(856, 214)"
      ]
     },
     "execution_count": 102,
     "metadata": {},
     "output_type": "execute_result"
    }
   ],
   "source": [
    "len(trainset), len(testset)"
   ]
  },
  {
   "cell_type": "code",
   "execution_count": 112,
   "metadata": {},
   "outputs": [
    {
     "data": {
      "image/png": "[encoded data removed]",
      "text/plain": [
       "<Figure size 432x288 with 1 Axes>"
      ]
     },
     "metadata": {
      "needs_background": "light"
     },
     "output_type": "display_data"
    },
    {
     "name": "stdout",
     "output_type": "stream",
     "text": [
      "tensor([16, 17,  4, 15,  9])  tensor([ 6,  9, 10, 13, 11])  tensor([12,  2,  4, 18, 16])  tensor([10,  1,  1, 19,  4])\n"
     ]
    }
   ],
   "source": [
    "def imshow(img):\n",
    "    img = img / 2 + 0.5\n",
    "    npimg = img.numpy()\n",
    "    plt.imshow(np.transpose(npimg, (1, 2, 0)))\n",
    "    plt.show()\n",
    "\n",
    "\n",
    "dataiter = iter(trainloader)\n",
    "images, labels = dataiter.__next__()\n",
    "\n",
    "imshow(torchvision.utils.make_grid(images), labels)\n",
    "print('  '.join('{}'.format(labels[j]) for j in range(batch_size)))"
   ]
  },
  {
   "attachments": {},
   "cell_type": "markdown",
   "metadata": {},
   "source": [
    "### Модель"
   ]
  },
  {
   "cell_type": "code",
   "execution_count": 145,
   "metadata": {},
   "outputs": [],
   "source": [
    "import torch.nn as nn\n",
    "import torch.nn.functional as F\n",
    "\n",
    "class Net(nn.Module):\n",
    "    def __init__(self):\n",
    "        super(Net, self).__init__()\n",
    "        self.conv_layers = nn.Sequential(\n",
    "            nn.Conv2d(3, 64, kernel_size=(5, 5), stride=(2, 2), padding=(2, 2)),\n",
    "            nn.BatchNorm2d(64),\n",
    "            nn.MaxPool2d(kernel_size=(3, 3), stride=(2, 2), padding=(1, 1)),\n",
    "            \n",
    "            nn.Conv2d(in_channels=64, out_channels=64, kernel_size=(3, 3), stride=(1, 1), padding=(1, 1)),\n",
    "            nn.BatchNorm2d(64),\n",
    "            nn.Dropout(p=0.2),\n",
    "\n",
    "            nn.Conv2d(in_channels=64, out_channels=64, kernel_size=(3,3), stride=(1,1), padding=(1,1)),\n",
    "            nn.BatchNorm2d(64),\n",
    "            nn.Dropout(p=0.2)\n",
    "        )\n",
    "\n",
    "        self.linear_1 = nn.Linear(832, 128)\n",
    "        self.lstm = nn.LSTM(128, 32, bidirectional=True, batch_first=True)\n",
    "        self.linear_2 = nn.Linear(64, 20)\n",
    "\n",
    "    def forward(self, x, targets):\n",
    "        bs, _, _, _ = x.size()\n",
    "        x = self.conv_layers(x)\n",
    "        x = x.permute(0, 3, 1, 2)\n",
    "        x = x.view(bs, x.size(1), -1)\n",
    "        x = self.linear_1(x)\n",
    "        x = nn.functional.relu(x)\n",
    "        x, h = self.lstm(x)\n",
    "        x = self.linear_2(x)\n",
    "        x = x.permute(1, 0, 2)\n",
    "        \n",
    "        loss = None\n",
    "\n",
    "        if targets is not None:\n",
    "            log_probs = nn.functional.log_softmax(x, 2)\n",
    "\n",
    "            input_lengths = torch.full(\n",
    "                size=(bs,),\n",
    "                fill_value=log_probs.size(0),\n",
    "                dtype=torch.int32\n",
    "            )\n",
    "\n",
    "            target_lengths = torch.full(\n",
    "                size=(bs,),\n",
    "                fill_value=targets.size(1),\n",
    "                dtype=torch.int32\n",
    "            )\n",
    "            \n",
    "            loss = nn.CTCLoss(blank=19)(log_probs, targets, input_lengths, target_lengths)\n",
    "\n",
    "        return x, loss"
   ]
  },
  {
   "cell_type": "code",
   "execution_count": 146,
   "metadata": {},
   "outputs": [],
   "source": [
    "net = Net()"
   ]
  },
  {
   "cell_type": "code",
   "execution_count": 147,
   "metadata": {},
   "outputs": [],
   "source": [
    "import torch.optim as optim\n",
    "\n",
    "optimizer =  optim.Adam(net.parameters(), lr=1e-4)"
   ]
  },
  {
   "cell_type": "code",
   "execution_count": 148,
   "metadata": {},
   "outputs": [],
   "source": [
    "def train(model, optimizer, train_loader, test_loader, encoder, num_epochs):\n",
    "    train_losses = []\n",
    "    val_losses = []\n",
    "    for epoch in range(num_epochs):\n",
    "\n",
    "        # train\n",
    "        model.train()\n",
    "        sum_loss = 0\n",
    "        for images, targets in train_loader:\n",
    "            optimizer.zero_grad()\n",
    "            targets = targets.to(DEVICE)\n",
    "            images = images.to(DEVICE)              \n",
    "            train_pred, loss = model(images, targets)\n",
    "            loss.requres_grad = True\n",
    "            loss.backward()\n",
    "            optimizer.step()\n",
    "            sum_loss += loss.item()\n",
    "            loss.detach()\n",
    "\n",
    "        train_loss = sum_loss / len(train_loader)          \n",
    "        train_losses.append(train_loss)         \n",
    "\n",
    "        # validation eval                     \n",
    "        model.eval()\n",
    "        sum_loss = 0\n",
    "        with torch.no_grad():\n",
    "            for images, targets in test_loader:\n",
    "                images = images.to(DEVICE)\n",
    "                targets = targets.to(DEVICE)\n",
    "                val_pred, loss = model(images, targets)\n",
    "                loss.requres_grad = True\n",
    "                sum_loss += loss.item()\n",
    "\n",
    "        val_loss = sum_loss / len(test_loader)\n",
    "        val_losses.append(val_loss)\n",
    "\n",
    "        if (epoch + 1) % 10 == 0:\n",
    "            print(f\"Epoch: {epoch + 1}, train loss: {r4(train_loss)},  val. loss: {r4(val_loss)}\")\n",
    "\n",
    "    return train_losses, val_losses"
   ]
  },
  {
   "cell_type": "code",
   "execution_count": null,
   "metadata": {},
   "outputs": [],
   "source": [
    "model = Net()\n",
    "model.to(DEVICE)\n",
    "optimizer = torch.optim.Adam(model.parameters(), lr=2E-3)\n",
    "num_epochs = 90\n",
    "\n",
    "train_loss, val_loss = train(model, optimizer, trainloader, testloader, label_encoder, num_epochs)"
   ]
  },
  {
   "cell_type": "code",
   "execution_count": null,
   "metadata": {},
   "outputs": [],
   "source": [
    "def plot_losses(train_loss, val_loss):\n",
    "    plt.figure(figsize=(10, 6))\n",
    "    plt.plot(train_loss, label = 'training')\n",
    "    plt.plot(val_loss, label = 'validation')\n",
    "    plt.grid()\n",
    "    plt.xlabel('Epoches')\n",
    "    plt.ylabel('Loss')\n",
    "    plt.legend()\n",
    "    plt.show()\n",
    "    \n",
    "plot_losses(train_loss, val_loss)"
   ]
  },
  {
   "cell_type": "code",
   "execution_count": null,
   "metadata": {},
   "outputs": [],
   "source": [
    "def decode(batch_outputs, encoder):\n",
    "    predictions_labels = []\n",
    "    for j in range(batch_outputs.shape[1]):\n",
    "        model_output = batch_outputs[:, j, :].unsqueeze(1)\n",
    "        \n",
    "        model_output_permuted = model_output.permute(1, 0, 2)\n",
    "        model_output_converted_to_probabilities = torch.softmax(model_output_permuted, 2)\n",
    "        model_output_BPA_applied_gpu = torch.argmax(model_output_converted_to_probabilities, 2)\n",
    "        model_output_BPA_applied = model_output_BPA_applied_gpu.detach().cpu().numpy().squeeze()\n",
    "\n",
    "        prediction_ctc = []\n",
    "        for n in model_output_BPA_applied:\n",
    "            if n == 19:\n",
    "                prediction_ctc.append(\"_\")\n",
    "            else:\n",
    "                c = encoder.inverse_transform([n])[0]\n",
    "                prediction_ctc.append(c)\n",
    "\n",
    "        model_ouput_without_dublicates = []\n",
    "        for i in range(len(prediction_ctc)):\n",
    "            if i == 0:\n",
    "                model_ouput_without_dublicates.append(prediction_ctc[i])\n",
    "            else:\n",
    "                if model_ouput_without_dublicates[-1] != prediction_ctc[i]:\n",
    "                    model_ouput_without_dublicates.append(prediction_ctc[i])\n",
    "\n",
    "        model_ouput_without_blanks = []\n",
    "        for e in model_ouput_without_dublicates:\n",
    "            if e != \"_\":\n",
    "                model_ouput_without_blanks.append(e)\n",
    "        prediction_label = \"\".join(model_ouput_without_blanks)\n",
    "        predictions_labels.append(prediction_label)\n",
    "\n",
    "    return predictions_labels"
   ]
  },
  {
   "cell_type": "code",
   "execution_count": null,
   "metadata": {},
   "outputs": [],
   "source": [
    "def evaluations(model, test_loader, encoder):\n",
    "    model.eval()\n",
    "    cer_loss = CharErrorRate()\n",
    "    predictions = []\n",
    "    pred_labels = []    \n",
    "    test_labels = []\n",
    "    test_img = []\n",
    "    \n",
    "    with torch.no_grad():\n",
    "        for images, targets in test_loader:\n",
    "            images = images.to(DEVICE)\n",
    "            targets = targets.to(DEVICE)\n",
    "            test_pred, loss = model(images, targets)\n",
    "            predictions.append(test_pred.detach())\n",
    "\n",
    "    for pred in predictions:\n",
    "        pred_labels.extend(decode(pred, encoder))\n",
    "\n",
    "    for images, labels in test_loader:\n",
    "        for ind, label in enumerate(labels):\n",
    "            label = label.type(torch.int).tolist()\n",
    "            test_labels.append(''.join(encoder.inverse_transform(label)))\n",
    "            test_img.append(images[ind].squeeze())\n",
    "      \n",
    "    test_cer_loss = cer_loss(pred_labels, test_labels).item()        \n",
    "    test_result_summary = []\n",
    "    for ind in range(len(test_labels)):\n",
    "        img = test_img[ind]\n",
    "        summary = dict()\n",
    "        summary[\"data\"] = img\n",
    "        summary[\"char_err\"] = cer_loss(pred_labels[ind], test_labels[ind]).item()\n",
    "        summary[\"label\"] = test_labels[ind]\n",
    "        summary[\"prediction\"] = pred_labels[ind]\n",
    "        test_result_summary.append(summary)\n",
    "\n",
    "    return test_cer_loss, test_result_summary"
   ]
  },
  {
   "cell_type": "code",
   "execution_count": null,
   "metadata": {},
   "outputs": [],
   "source": [
    "test_cer_loss, test_result_summary = evaluations(model, test_loader, label_encoder)\n",
    "print(f\"CharErrorRate: {test_cer_loss}\")"
   ]
  },
  {
   "cell_type": "code",
   "execution_count": null,
   "metadata": {},
   "outputs": [],
   "source": [
    "quantity = 5\n",
    "test_result_summary = sorted(test_result_summary, key=lambda x: x[\"char_err\"], reverse=True)\n",
    "for img in test_result_summary[:quantity]:\n",
    "    print(f\"        Label: {img['label']}\\n   Prediction: {img['prediction']}\")\n",
    "    print(f\"CharErrorRate: {r4(img['char_err'])}\")\n",
    "    plt.imshow(img[\"data\"], cmap=\"gray\")\n",
    "    plt.show()"
   ]
  }
 ],
 "metadata": {
  "kernelspec": {
   "display_name": "Python 3",
   "language": "python",
   "name": "python3"
  },
  "language_info": {
   "codemirror_mode": {
    "name": "ipython",
    "version": 3
   },
   "file_extension": ".py",
   "mimetype": "text/x-python",
   "name": "python",
   "nbconvert_exporter": "python",
   "pygments_lexer": "ipython3",
   "version": "3.9.12"
  },
  "orig_nbformat": 4,
  "vscode": {
   "interpreter": {
    "hash": "ff4f85d6e04298634172ac5d8264e7e9b556b95639fe52ebb9425c4d4cba0c9c"
   }
  }
 },
 "nbformat": 4,
 "nbformat_minor": 2
}
